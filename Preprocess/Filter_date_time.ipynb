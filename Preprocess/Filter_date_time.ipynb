{
 "cells": [
  {
   "cell_type": "code",
   "execution_count": 35,
   "metadata": {},
   "outputs": [],
   "source": [
    "import numpy as np\n",
    "import pandas as pd\n",
    "from datetime import datetime\n",
    "from bs4 import BeautifulSoup"
   ]
  },
  {
   "cell_type": "code",
   "execution_count": 36,
   "metadata": {},
   "outputs": [],
   "source": [
    "data = pd.read_csv('Emerging Markets ETF List (79).csv')"
   ]
  },
  {
   "cell_type": "code",
   "execution_count": 37,
   "metadata": {},
   "outputs": [],
   "source": [
    "dateline = datetime(2015,12,31)\n",
    "listtime = data['Inception']\n",
    "listdate = []\n",
    "for time in listtime :\n",
    "     listdate.append(datetime.strptime(time,'%d/%m/%Y'))"
   ]
  },
  {
   "cell_type": "code",
   "execution_count": 38,
   "metadata": {},
   "outputs": [
    {
     "data": {
      "text/plain": [
       "[datetime.datetime(2005, 3, 10, 0, 0),\n",
       " datetime.datetime(2012, 10, 18, 0, 0),\n",
       " datetime.datetime(2003, 4, 11, 0, 0),\n",
       " datetime.datetime(2010, 1, 14, 0, 0),\n",
       " datetime.datetime(2013, 8, 15, 0, 0)]"
      ]
     },
     "execution_count": 38,
     "metadata": {},
     "output_type": "execute_result"
    }
   ],
   "source": [
    "listdate[:5]"
   ]
  },
  {
   "cell_type": "code",
   "execution_count": 39,
   "metadata": {},
   "outputs": [],
   "source": [
    "data['Inception'] = listdate"
   ]
  },
  {
   "cell_type": "markdown",
   "metadata": {},
   "source": [
    "# use mask or filter"
   ]
  },
  {
   "cell_type": "code",
   "execution_count": 40,
   "metadata": {},
   "outputs": [],
   "source": [
    "filter = (data['Inception'] <= dateline)\n",
    "clean_data = data[filter]"
   ]
  },
  {
   "cell_type": "markdown",
   "metadata": {},
   "source": [
    "# check"
   ]
  },
  {
   "cell_type": "code",
   "execution_count": 42,
   "metadata": {},
   "outputs": [
    {
     "data": {
      "text/plain": [
       "0    2005-03-10\n",
       "1    2012-10-18\n",
       "2    2003-04-11\n",
       "3    2010-01-14\n",
       "4    2013-08-15\n",
       "5    2007-03-23\n",
       "6    2007-07-13\n",
       "7    2015-09-25\n",
       "8    2007-10-30\n",
       "9    2007-09-27\n",
       "10   2012-02-23\n",
       "11   2011-02-23\n",
       "12   2011-04-19\n",
       "13   2012-09-25\n",
       "14   2008-05-12\n",
       "18   2014-11-12\n",
       "19   2012-01-13\n",
       "20   2007-11-12\n",
       "22   2011-08-16\n",
       "23   2015-01-07\n",
       "24   2014-12-10\n",
       "25   2015-12-08\n",
       "26   2014-06-04\n",
       "27   2008-12-17\n",
       "28   2014-09-23\n",
       "29   2007-12-28\n",
       "31   2012-02-15\n",
       "32   2010-04-12\n",
       "33   2002-11-13\n",
       "34   2011-06-09\n",
       "36   2007-11-01\n",
       "37   2015-02-25\n",
       "38   2008-12-17\n",
       "39   2013-08-01\n",
       "40   2006-09-21\n",
       "44   2014-03-27\n",
       "45   2012-08-15\n",
       "46   2013-09-27\n",
       "47   2009-06-16\n",
       "49   2009-06-02\n",
       "54   2015-03-16\n",
       "58   2007-11-01\n",
       "59   2008-10-16\n",
       "60   2015-12-28\n",
       "61   2013-11-06\n",
       "63   2010-12-03\n",
       "65   2015-09-02\n",
       "67   2012-02-24\n",
       "71   2011-08-04\n",
       "73   2015-11-09\n",
       "Name: Inception, dtype: datetime64[ns]"
      ]
     },
     "execution_count": 42,
     "metadata": {},
     "output_type": "execute_result"
    }
   ],
   "source": [
    "clean_data['Inception']"
   ]
  },
  {
   "cell_type": "code",
   "execution_count": 32,
   "metadata": {},
   "outputs": [],
   "source": [
    "clean_data.to_csv('filter_date_data_ETF.csv')"
   ]
  }
 ],
 "metadata": {
  "kernelspec": {
   "display_name": "Python 3",
   "language": "python",
   "name": "python3"
  },
  "language_info": {
   "codemirror_mode": {
    "name": "ipython",
    "version": 3
   },
   "file_extension": ".py",
   "mimetype": "text/x-python",
   "name": "python",
   "nbconvert_exporter": "python",
   "pygments_lexer": "ipython3",
   "version": "3.7.2"
  }
 },
 "nbformat": 4,
 "nbformat_minor": 2
}
